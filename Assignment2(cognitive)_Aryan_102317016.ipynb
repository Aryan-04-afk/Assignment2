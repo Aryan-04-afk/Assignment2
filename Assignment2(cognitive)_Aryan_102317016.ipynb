{
  "nbformat": 4,
  "nbformat_minor": 0,
  "metadata": {
    "colab": {
      "provenance": []
    },
    "kernelspec": {
      "name": "python3",
      "display_name": "Python 3"
    },
    "language_info": {
      "name": "python"
    }
  },
  "cells": [
    {
      "cell_type": "markdown",
      "source": [
        "Assignment Question 1"
      ],
      "metadata": {
        "id": "fJwcKNg3VuS7"
      }
    },
    {
      "cell_type": "markdown",
      "source": [
        "1.1"
      ],
      "metadata": {
        "id": "TsMN1Vs0URXK"
      }
    },
    {
      "cell_type": "code",
      "source": [
        "L=[10,20,30,40,50,60,70,80,90,100]\n",
        "L.append(200)\n",
        "L.append(300)\n",
        "\n",
        "\n",
        "print(L)"
      ],
      "metadata": {
        "colab": {
          "base_uri": "https://localhost:8080/"
        },
        "id": "ozThV--HSVSe",
        "outputId": "67c6390d-492f-4fce-821b-f955798c764e"
      },
      "execution_count": 17,
      "outputs": [
        {
          "output_type": "stream",
          "name": "stdout",
          "text": [
            "[10, 20, 30, 40, 50, 60, 70, 80, 90, 100, 200, 300]\n"
          ]
        }
      ]
    },
    {
      "cell_type": "markdown",
      "source": [
        "1.2"
      ],
      "metadata": {
        "id": "pF194rUVUSz3"
      }
    },
    {
      "cell_type": "code",
      "source": [
        "L.remove(10)\n",
        "L.remove(20)\n",
        "print(L)"
      ],
      "metadata": {
        "colab": {
          "base_uri": "https://localhost:8080/"
        },
        "id": "iGBj8-bLS8Fw",
        "outputId": "faf1e560-229d-4472-8f59-889aac964b07"
      },
      "execution_count": 18,
      "outputs": [
        {
          "output_type": "stream",
          "name": "stdout",
          "text": [
            "[30, 40, 50, 60, 70, 80, 90, 100, 200, 300]\n"
          ]
        }
      ]
    },
    {
      "cell_type": "markdown",
      "source": [
        "1.3"
      ],
      "metadata": {
        "id": "DOrsAVvWUUZX"
      }
    },
    {
      "cell_type": "code",
      "source": [
        "L.sort()\n",
        "print(L)"
      ],
      "metadata": {
        "colab": {
          "base_uri": "https://localhost:8080/"
        },
        "id": "1gpZrFhbStQR",
        "outputId": "f9e33f19-02c8-4004-b484-91af96f45fdb"
      },
      "execution_count": 19,
      "outputs": [
        {
          "output_type": "stream",
          "name": "stdout",
          "text": [
            "[30, 40, 50, 60, 70, 80, 90, 100, 200, 300]\n"
          ]
        }
      ]
    },
    {
      "cell_type": "markdown",
      "source": [
        "1.4\n"
      ],
      "metadata": {
        "id": "4xxID-NNUbbV"
      }
    },
    {
      "cell_type": "code",
      "source": [
        "L.sort(reverse=True)\n",
        "\n",
        "print(L)"
      ],
      "metadata": {
        "colab": {
          "base_uri": "https://localhost:8080/"
        },
        "id": "KKjQXO1hTjB_",
        "outputId": "76afb779-7900-49c1-d362-62c522932396"
      },
      "execution_count": 20,
      "outputs": [
        {
          "output_type": "stream",
          "name": "stdout",
          "text": [
            "[300, 200, 100, 90, 80, 70, 60, 50, 40, 30]\n"
          ]
        }
      ]
    },
    {
      "cell_type": "markdown",
      "source": [
        "Here starts question 2."
      ],
      "metadata": {
        "id": "EbLgtnN6VeC0"
      }
    },
    {
      "cell_type": "markdown",
      "source": [
        "2.1"
      ],
      "metadata": {
        "id": "0VOkC3nAUeai"
      }
    },
    {
      "cell_type": "code",
      "source": [
        "T=(45,89.5,76,45.4,89,92,58,45)\n",
        "print(max(T))"
      ],
      "metadata": {
        "colab": {
          "base_uri": "https://localhost:8080/"
        },
        "id": "eB21q8GEU_Qn",
        "outputId": "fa6c3a03-6682-43c2-a317-c6c8b29cb777"
      },
      "execution_count": 14,
      "outputs": [
        {
          "output_type": "stream",
          "name": "stdout",
          "text": [
            "92\n"
          ]
        }
      ]
    },
    {
      "cell_type": "markdown",
      "source": [
        "2.2"
      ],
      "metadata": {
        "id": "kSjQBqYLUftm"
      }
    },
    {
      "cell_type": "code",
      "source": [
        "\n",
        "c = min(T)\n",
        "print(c)\n",
        "print(T.count(c))\n",
        "\n",
        "\n"
      ],
      "metadata": {
        "colab": {
          "base_uri": "https://localhost:8080/"
        },
        "id": "e_ssCbrxWLn0",
        "outputId": "cd27c4d4-a99d-47b8-adc8-859d80457407"
      },
      "execution_count": 21,
      "outputs": [
        {
          "output_type": "stream",
          "name": "stdout",
          "text": [
            "45\n",
            "2\n"
          ]
        }
      ]
    },
    {
      "cell_type": "markdown",
      "source": [
        "2.3"
      ],
      "metadata": {
        "id": "KTdrQprBUilu"
      }
    },
    {
      "cell_type": "code",
      "source": [
        "T1=T[::-1]\n",
        "T2=list(T)\n",
        "print(T1)\n",
        "print(T2)"
      ],
      "metadata": {
        "colab": {
          "base_uri": "https://localhost:8080/"
        },
        "id": "7Qa50Q4MWciE",
        "outputId": "1f1ee4e3-cdba-4948-bf08-7d04195a1080"
      },
      "execution_count": 23,
      "outputs": [
        {
          "output_type": "stream",
          "name": "stdout",
          "text": [
            "(45, 58, 92, 89, 45.4, 76, 89.5, 45)\n",
            "[45, 89.5, 76, 45.4, 89, 92, 58, 45]\n"
          ]
        }
      ]
    },
    {
      "cell_type": "markdown",
      "source": [
        "2.4"
      ],
      "metadata": {
        "id": "_I9wNXPyUkrc"
      }
    },
    {
      "cell_type": "code",
      "source": [
        "n=int(input(\"Enter to check for value:\"))\n",
        "x=T.count(n)\n",
        "\n",
        "\n",
        "if x>0:\n",
        "  print(\"The element is present in the tuple and is at \",T.index(n),\"position\")\n",
        "else:\n",
        "  print(\"The element is not present in the tuple\")\n"
      ],
      "metadata": {
        "id": "nypr-J6jXZoM",
        "colab": {
          "base_uri": "https://localhost:8080/"
        },
        "outputId": "03659c11-254e-4c68-e7a7-876b7d9ac3ae"
      },
      "execution_count": 25,
      "outputs": [
        {
          "output_type": "stream",
          "name": "stdout",
          "text": [
            "Enter to check for value:45\n",
            "The element is present in the tuple and is at  0 position\n"
          ]
        }
      ]
    },
    {
      "cell_type": "markdown",
      "source": [
        "Quetion 3 starts here.\n"
      ],
      "metadata": {
        "id": "O2PViHD7TS1v"
      }
    },
    {
      "cell_type": "markdown",
      "source": [
        "3.1\n"
      ],
      "metadata": {
        "id": "dbwdCxrhTY_r"
      }
    },
    {
      "cell_type": "code",
      "source": [
        "import random as r\n",
        "\n",
        "random_nums=[r.randint(100,900) for _ in range(100)]\n",
        "odd_nums=[num for num in random_nums if num%2!=0]\n",
        "print(\"The total number of numbers is:\",len(random_nums))\n",
        "print(random_nums)\n",
        "\n",
        "\n",
        "print(\"The number of odd numbers is:\",len(odd_nums))\n",
        "print(odd_nums)\n"
      ],
      "metadata": {
        "colab": {
          "base_uri": "https://localhost:8080/"
        },
        "id": "MtC026KKTdGa",
        "outputId": "290218d3-4a3a-4aa6-9043-23e330408cd2"
      },
      "execution_count": 30,
      "outputs": [
        {
          "output_type": "stream",
          "name": "stdout",
          "text": [
            "The total number of numbers is: 100\n",
            "[406, 157, 736, 510, 701, 659, 257, 224, 206, 503, 124, 491, 352, 582, 464, 735, 163, 386, 768, 845, 414, 474, 774, 713, 829, 276, 810, 800, 507, 185, 194, 874, 757, 824, 374, 340, 367, 821, 704, 184, 157, 132, 125, 708, 373, 700, 614, 116, 189, 765, 564, 763, 741, 631, 354, 208, 721, 725, 260, 522, 589, 857, 254, 613, 180, 757, 317, 829, 429, 605, 134, 246, 748, 314, 882, 688, 875, 696, 198, 349, 642, 210, 277, 196, 877, 118, 371, 230, 351, 381, 769, 178, 400, 850, 816, 150, 136, 524, 132, 412]\n",
            "The number of odd numbers is: 42\n",
            "[157, 701, 659, 257, 503, 491, 735, 163, 845, 713, 829, 507, 185, 757, 367, 821, 157, 125, 373, 189, 765, 763, 741, 631, 721, 725, 589, 857, 613, 757, 317, 829, 429, 605, 875, 349, 277, 877, 371, 351, 381, 769]\n"
          ]
        }
      ]
    },
    {
      "cell_type": "markdown",
      "source": [
        "3.2"
      ],
      "metadata": {
        "id": "YXJCtIoOVwU2"
      }
    },
    {
      "cell_type": "code",
      "source": [
        "import random as r\n",
        "\n",
        "random_nums=[r.randint(100,900) for _ in range(100)]\n",
        "even_nums=[num for num in random_nums if num%2==0]\n",
        "\n",
        "print(\"The total number of numbers is:\",len(random_nums))\n",
        "print(random_nums)\n",
        "\n",
        "\n",
        "print(\"The number of even numbers is:\",len(even_nums))\n",
        "print(even_nums)"
      ],
      "metadata": {
        "colab": {
          "base_uri": "https://localhost:8080/"
        },
        "id": "_ePNkJ9gVn7V",
        "outputId": "2c677403-d0f5-4a32-85a2-dd71e58e9288"
      },
      "execution_count": 34,
      "outputs": [
        {
          "output_type": "stream",
          "name": "stdout",
          "text": [
            "The total number of numbers is: 100\n",
            "[563, 880, 329, 261, 881, 525, 291, 810, 524, 442, 776, 647, 448, 773, 142, 833, 682, 613, 443, 762, 219, 386, 786, 469, 574, 148, 161, 317, 298, 787, 790, 282, 481, 291, 409, 497, 352, 243, 853, 209, 283, 190, 773, 582, 608, 535, 440, 457, 895, 323, 189, 773, 735, 899, 304, 547, 152, 808, 538, 473, 615, 364, 712, 112, 148, 621, 306, 434, 294, 725, 737, 368, 684, 391, 143, 161, 555, 440, 607, 119, 131, 731, 207, 596, 702, 787, 669, 140, 364, 775, 278, 551, 527, 341, 479, 537, 780, 537, 577, 288]\n",
            "The number of even numbers is: 42\n",
            "[880, 810, 524, 442, 776, 448, 142, 682, 762, 386, 786, 574, 148, 298, 790, 282, 352, 190, 582, 608, 440, 304, 152, 808, 538, 364, 712, 112, 148, 306, 434, 294, 368, 684, 440, 596, 702, 140, 364, 278, 780, 288]\n"
          ]
        }
      ]
    },
    {
      "cell_type": "markdown",
      "source": [
        "3.3"
      ],
      "metadata": {
        "id": "k1Y28MuxWqtF"
      }
    },
    {
      "cell_type": "code",
      "source": [
        "import random\n",
        "\n",
        "def is_prime(n):\n",
        "    if n <= 1:\n",
        "        return False\n",
        "    for i in range(2, int(n**0.5) + 1):\n",
        "        if n % i == 0:\n",
        "            return False\n",
        "    return True\n",
        "\n",
        "random_numbers = [random.randint(100, 900) for _ in range(100)]\n",
        "prime_numbers = [num for num in random_numbers if is_prime(num)]\n",
        "\n",
        "print(\"The total number of numbers is:\",len(random_nums))\n",
        "print(random_nums)\n",
        "\n",
        "\n",
        "print(\"Count of prime numbers:\", len(prime_numbers))\n",
        "print(\"Prime numbers:\", prime_numbers)\n"
      ],
      "metadata": {
        "colab": {
          "base_uri": "https://localhost:8080/"
        },
        "id": "6be_NsF2WrcN",
        "outputId": "66739425-905a-466f-8ca2-76d1ad6ba8ec"
      },
      "execution_count": 35,
      "outputs": [
        {
          "output_type": "stream",
          "name": "stdout",
          "text": [
            "The total number of numbers is: 100\n",
            "[563, 880, 329, 261, 881, 525, 291, 810, 524, 442, 776, 647, 448, 773, 142, 833, 682, 613, 443, 762, 219, 386, 786, 469, 574, 148, 161, 317, 298, 787, 790, 282, 481, 291, 409, 497, 352, 243, 853, 209, 283, 190, 773, 582, 608, 535, 440, 457, 895, 323, 189, 773, 735, 899, 304, 547, 152, 808, 538, 473, 615, 364, 712, 112, 148, 621, 306, 434, 294, 725, 737, 368, 684, 391, 143, 161, 555, 440, 607, 119, 131, 731, 207, 596, 702, 787, 669, 140, 364, 775, 278, 551, 527, 341, 479, 537, 780, 537, 577, 288]\n",
            "Count of prime numbers: 11\n",
            "Prime numbers: [857, 467, 137, 631, 101, 167, 631, 109, 461, 613, 373]\n"
          ]
        }
      ]
    },
    {
      "cell_type": "markdown",
      "source": [
        "Question 4 starts here"
      ],
      "metadata": {
        "id": "aiHJn9V7W3xx"
      }
    },
    {
      "cell_type": "markdown",
      "source": [
        "4.1"
      ],
      "metadata": {
        "id": "WaIYLjNiW83Z"
      }
    },
    {
      "cell_type": "code",
      "source": [
        "A = {34, 56, 78, 90}\n",
        "B = {78, 45, 90, 23}\n",
        "\n",
        "scores_in_both=A.union(B)\n",
        "\n",
        "\n",
        "\n",
        "print(\"The scores present in both are:\",scores_in_both)\n",
        "\n"
      ],
      "metadata": {
        "colab": {
          "base_uri": "https://localhost:8080/"
        },
        "id": "D1B2ZObkW611",
        "outputId": "5636901a-c4a5-4d5e-dba7-e614cec68b26"
      },
      "execution_count": 39,
      "outputs": [
        {
          "output_type": "stream",
          "name": "stdout",
          "text": [
            "The scores present in both are: {34, 45, 78, 23, 56, 90}\n"
          ]
        }
      ]
    },
    {
      "cell_type": "markdown",
      "source": [
        "4.2"
      ],
      "metadata": {
        "id": "7OjR30r4YqT3"
      }
    },
    {
      "cell_type": "code",
      "source": [
        "A = {34, 56, 78, 90}\n",
        "B = {78, 45, 90, 23}\n",
        "\n",
        "common_scores=A.intersection()\n",
        "\n",
        "print(\"The common elements are:\",common_scores)"
      ],
      "metadata": {
        "colab": {
          "base_uri": "https://localhost:8080/"
        },
        "id": "Kl4Ma0suYrAl",
        "outputId": "3cbb77c3-f3c3-49e3-dab1-6241d896df0f"
      },
      "execution_count": 38,
      "outputs": [
        {
          "output_type": "stream",
          "name": "stdout",
          "text": [
            "The common elements are: {56, 34, 90, 78}\n"
          ]
        }
      ]
    },
    {
      "cell_type": "markdown",
      "source": [
        "4.3"
      ],
      "metadata": {
        "id": "3Nrl1eQpZmSa"
      }
    },
    {
      "cell_type": "code",
      "source": [
        "A = {34, 56, 78, 90}\n",
        "B = {78, 45, 90, 23}\n",
        "\n",
        "unique_scores_A=A.symmetric_difference(B)\n",
        "unique_scores_B=B.symmetric_difference(A)\n",
        "\n",
        "print(\"The unique elements in A are:\",unique_scores_A)\n",
        "print(\"The unique elements in B are:\",unique_scores_B)\n"
      ],
      "metadata": {
        "colab": {
          "base_uri": "https://localhost:8080/"
        },
        "id": "gCRWT9wqZm7A",
        "outputId": "40993a2a-30cc-461c-d543-2f444c8a8195"
      },
      "execution_count": 40,
      "outputs": [
        {
          "output_type": "stream",
          "name": "stdout",
          "text": [
            "The unique elements in A are: {34, 45, 23, 56}\n",
            "The unique elements in B are: {34, 45, 23, 56}\n"
          ]
        }
      ]
    },
    {
      "cell_type": "markdown",
      "source": [
        "4.4"
      ],
      "metadata": {
        "id": "HSq0hiNVahc6"
      }
    },
    {
      "cell_type": "code",
      "source": [
        "is_subset = A.issubset(B)\n",
        "\n",
        "is_superset = B.issuperset(A)\n",
        "\n",
        "print(\"Is A a subset of Team B?\", is_subset)\n",
        "print(\"Is B a superset of Team A?\",is_superset)"
      ],
      "metadata": {
        "colab": {
          "base_uri": "https://localhost:8080/"
        },
        "id": "Xek1-q4gaic2",
        "outputId": "f2f5a720-0bd1-456c-c210-373de9bab482"
      },
      "execution_count": 41,
      "outputs": [
        {
          "output_type": "stream",
          "name": "stdout",
          "text": [
            "Is A a subset of Team B? False\n",
            "Is B a superset of Team A? False\n"
          ]
        }
      ]
    },
    {
      "cell_type": "markdown",
      "source": [
        "4.5"
      ],
      "metadata": {
        "id": "3my2s8HidNi5"
      }
    },
    {
      "cell_type": "code",
      "source": [
        "A = {34, 56, 78, 90}\n",
        "B = {78, 45, 90, 23}\n",
        "\n",
        "n = int(input(\"Enter what you want to remove from A: \"))\n",
        "\n",
        "if n in A:\n",
        "    A.remove(n)\n",
        "    print(\"The new A is:\", A)\n",
        "else:\n",
        "    print(\"Not in A.\")\n"
      ],
      "metadata": {
        "colab": {
          "base_uri": "https://localhost:8080/"
        },
        "id": "wI1QBiRTdOUk",
        "outputId": "1f338c2d-9997-4244-d65e-10c05a483342"
      },
      "execution_count": 45,
      "outputs": [
        {
          "output_type": "stream",
          "name": "stdout",
          "text": [
            "Enter what you want to remove from A: 34\n",
            "The new A is: {56, 90, 78}\n"
          ]
        }
      ]
    },
    {
      "cell_type": "markdown",
      "source": [
        "Question 5"
      ],
      "metadata": {
        "id": "BCj_ihADetRg"
      }
    },
    {
      "cell_type": "code",
      "source": [
        "sample_dict={\n",
        "    \"name\":\"kelly\",\n",
        "    \"age\":25,\n",
        "    \"salary\":8000,\n",
        "    \"city\":\"New York\"\n",
        "}\n",
        "\n",
        "\n",
        "\n",
        "sample_dict[\"location\"]=sample_dict.pop(\"city\")\n",
        "print(sample_dict)"
      ],
      "metadata": {
        "colab": {
          "base_uri": "https://localhost:8080/"
        },
        "id": "raMPNE2eewNe",
        "outputId": "bb5558a0-cf8e-40ba-bfcf-8a142534dd64"
      },
      "execution_count": 46,
      "outputs": [
        {
          "output_type": "stream",
          "name": "stdout",
          "text": [
            "{'name': 'kelly', 'age': 25, 'salary': 8000, 'location': 'New York'}\n"
          ]
        }
      ]
    }
  ]
}